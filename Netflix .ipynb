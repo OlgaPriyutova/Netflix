{
 "cells": [
  {
   "cell_type": "markdown",
   "metadata": {},
   "source": [
    "# Analyzing My Viewing Activity on Netflix"
   ]
  },
  {
   "cell_type": "markdown",
   "metadata": {},
   "source": [
    "There is an opportunity on a Netflix account to get the file that reflects all your viewing activity there. I ordered such a file and Netflix sent it to me the next day.\n"
   ]
  },
  {
   "cell_type": "code",
   "execution_count": 1,
   "metadata": {},
   "outputs": [],
   "source": [
    "import pandas as pd\n",
    "import matplotlib.pyplot as plt\n",
    "from numpy import arange\n",
    "%matplotlib inline\n",
    "file = pd.read_csv(\"NetflixViewingActivity.csv\")"
   ]
  },
  {
   "cell_type": "markdown",
   "metadata": {},
   "source": [
    "The file looks like this:"
   ]
  },
  {
   "cell_type": "code",
   "execution_count": 2,
   "metadata": {},
   "outputs": [
    {
     "data": {
      "text/html": [
       "<div>\n",
       "<style scoped>\n",
       "    .dataframe tbody tr th:only-of-type {\n",
       "        vertical-align: middle;\n",
       "    }\n",
       "\n",
       "    .dataframe tbody tr th {\n",
       "        vertical-align: top;\n",
       "    }\n",
       "\n",
       "    .dataframe thead th {\n",
       "        text-align: right;\n",
       "    }\n",
       "</style>\n",
       "<table border=\"1\" class=\"dataframe\">\n",
       "  <thead>\n",
       "    <tr style=\"text-align: right;\">\n",
       "      <th></th>\n",
       "      <th>Profile Name</th>\n",
       "      <th>Start Time</th>\n",
       "      <th>Duration</th>\n",
       "      <th>Attributes</th>\n",
       "      <th>Title</th>\n",
       "      <th>Supplemental Video Type</th>\n",
       "      <th>Device Type</th>\n",
       "      <th>Bookmark</th>\n",
       "      <th>Latest Bookmark</th>\n",
       "      <th>Country</th>\n",
       "    </tr>\n",
       "  </thead>\n",
       "  <tbody>\n",
       "    <tr>\n",
       "      <th>0</th>\n",
       "      <td>Olga</td>\n",
       "      <td>1/2/2021 4:21</td>\n",
       "      <td>0:18:01</td>\n",
       "      <td>NaN</td>\n",
       "      <td>Cobra Kai: Season 2: Back In Black (Episode 2)</td>\n",
       "      <td>NaN</td>\n",
       "      <td>Chrome PC (Cadmium)</td>\n",
       "      <td>0:19:02</td>\n",
       "      <td>0:19:02</td>\n",
       "      <td>US (United States)</td>\n",
       "    </tr>\n",
       "    <tr>\n",
       "      <th>1</th>\n",
       "      <td>Olga</td>\n",
       "      <td>1/2/2021 4:20</td>\n",
       "      <td>0:00:43</td>\n",
       "      <td>Autoplayed: user action: None;</td>\n",
       "      <td>Season 3 Trailer: Cobra Kai</td>\n",
       "      <td>TRAILER</td>\n",
       "      <td>Chrome PC (Cadmium)</td>\n",
       "      <td>0:00:43</td>\n",
       "      <td>0:00:43</td>\n",
       "      <td>US (United States)</td>\n",
       "    </tr>\n",
       "    <tr>\n",
       "      <th>2</th>\n",
       "      <td>Olga</td>\n",
       "      <td>12/31/2020 0:29</td>\n",
       "      <td>0:00:11</td>\n",
       "      <td>Autoplayed: user action: None;</td>\n",
       "      <td>The Help_hook_primary_16x9</td>\n",
       "      <td>HOOK</td>\n",
       "      <td>Chrome PC (Cadmium)</td>\n",
       "      <td>0:00:11</td>\n",
       "      <td>0:00:11</td>\n",
       "      <td>US (United States)</td>\n",
       "    </tr>\n",
       "    <tr>\n",
       "      <th>3</th>\n",
       "      <td>Olga</td>\n",
       "      <td>12/31/2020 0:29</td>\n",
       "      <td>0:00:05</td>\n",
       "      <td>Autoplayed: user action: None;</td>\n",
       "      <td>Trailer: Death to 2020</td>\n",
       "      <td>TRAILER</td>\n",
       "      <td>Chrome PC (Cadmium)</td>\n",
       "      <td>0:00:05</td>\n",
       "      <td>0:00:05</td>\n",
       "      <td>US (United States)</td>\n",
       "    </tr>\n",
       "    <tr>\n",
       "      <th>4</th>\n",
       "      <td>Olga</td>\n",
       "      <td>12/26/2020 23:08</td>\n",
       "      <td>0:00:07</td>\n",
       "      <td>Autoplayed: user action: None;</td>\n",
       "      <td>How the Grinch Stole Christmas_hook_primary_16x9</td>\n",
       "      <td>HOOK</td>\n",
       "      <td>Chrome PC (Cadmium)</td>\n",
       "      <td>0:00:07</td>\n",
       "      <td>0:00:07</td>\n",
       "      <td>US (United States)</td>\n",
       "    </tr>\n",
       "    <tr>\n",
       "      <th>5</th>\n",
       "      <td>Olga</td>\n",
       "      <td>12/26/2020 22:57</td>\n",
       "      <td>0:06:52</td>\n",
       "      <td>NaN</td>\n",
       "      <td>Dinner for Schmucks</td>\n",
       "      <td>NaN</td>\n",
       "      <td>Chrome PC (Cadmium)</td>\n",
       "      <td>1:32:35</td>\n",
       "      <td>1:32:35</td>\n",
       "      <td>US (United States)</td>\n",
       "    </tr>\n",
       "    <tr>\n",
       "      <th>6</th>\n",
       "      <td>Olga</td>\n",
       "      <td>12/26/2020 22:56</td>\n",
       "      <td>0:00:25</td>\n",
       "      <td>Autoplayed: user action: None;</td>\n",
       "      <td>Dinner for Schmucks_hook_primary_16x9</td>\n",
       "      <td>HOOK</td>\n",
       "      <td>Chrome PC (Cadmium)</td>\n",
       "      <td>0:00:25</td>\n",
       "      <td>0:00:25</td>\n",
       "      <td>US (United States)</td>\n",
       "    </tr>\n",
       "    <tr>\n",
       "      <th>7</th>\n",
       "      <td>Olga</td>\n",
       "      <td>12/26/2020 22:56</td>\n",
       "      <td>0:00:06</td>\n",
       "      <td>Autoplayed: user action: None;</td>\n",
       "      <td>Not Another Teen Movie_hook_primary_16x9</td>\n",
       "      <td>HOOK</td>\n",
       "      <td>Chrome PC (Cadmium)</td>\n",
       "      <td>0:00:06</td>\n",
       "      <td>0:00:06</td>\n",
       "      <td>US (United States)</td>\n",
       "    </tr>\n",
       "    <tr>\n",
       "      <th>8</th>\n",
       "      <td>Olga</td>\n",
       "      <td>12/26/2020 22:56</td>\n",
       "      <td>0:00:13</td>\n",
       "      <td>Autoplayed: user action: None;</td>\n",
       "      <td>Mr. Deeds_hook_primary_16x9</td>\n",
       "      <td>HOOK</td>\n",
       "      <td>Chrome PC (Cadmium)</td>\n",
       "      <td>0:00:13</td>\n",
       "      <td>0:00:13</td>\n",
       "      <td>US (United States)</td>\n",
       "    </tr>\n",
       "    <tr>\n",
       "      <th>9</th>\n",
       "      <td>Olga</td>\n",
       "      <td>12/26/2020 22:55</td>\n",
       "      <td>0:00:32</td>\n",
       "      <td>Autoplayed: user action: None;</td>\n",
       "      <td>Jim &amp; Andy: The Great Beyond - Featuring a Ver...</td>\n",
       "      <td>TRAILER</td>\n",
       "      <td>Chrome PC (Cadmium)</td>\n",
       "      <td>0:00:33</td>\n",
       "      <td>0:00:33</td>\n",
       "      <td>US (United States)</td>\n",
       "    </tr>\n",
       "  </tbody>\n",
       "</table>\n",
       "</div>"
      ],
      "text/plain": [
       "  Profile Name        Start Time Duration                       Attributes  \\\n",
       "0         Olga     1/2/2021 4:21  0:18:01                              NaN   \n",
       "1         Olga     1/2/2021 4:20  0:00:43  Autoplayed: user action: None;    \n",
       "2         Olga   12/31/2020 0:29  0:00:11  Autoplayed: user action: None;    \n",
       "3         Olga   12/31/2020 0:29  0:00:05  Autoplayed: user action: None;    \n",
       "4         Olga  12/26/2020 23:08  0:00:07  Autoplayed: user action: None;    \n",
       "5         Olga  12/26/2020 22:57  0:06:52                              NaN   \n",
       "6         Olga  12/26/2020 22:56  0:00:25  Autoplayed: user action: None;    \n",
       "7         Olga  12/26/2020 22:56  0:00:06  Autoplayed: user action: None;    \n",
       "8         Olga  12/26/2020 22:56  0:00:13  Autoplayed: user action: None;    \n",
       "9         Olga  12/26/2020 22:55  0:00:32  Autoplayed: user action: None;    \n",
       "\n",
       "                                               Title Supplemental Video Type  \\\n",
       "0     Cobra Kai: Season 2: Back In Black (Episode 2)                     NaN   \n",
       "1                        Season 3 Trailer: Cobra Kai                 TRAILER   \n",
       "2                         The Help_hook_primary_16x9                    HOOK   \n",
       "3                             Trailer: Death to 2020                 TRAILER   \n",
       "4   How the Grinch Stole Christmas_hook_primary_16x9                    HOOK   \n",
       "5                                Dinner for Schmucks                     NaN   \n",
       "6              Dinner for Schmucks_hook_primary_16x9                    HOOK   \n",
       "7           Not Another Teen Movie_hook_primary_16x9                    HOOK   \n",
       "8                        Mr. Deeds_hook_primary_16x9                    HOOK   \n",
       "9  Jim & Andy: The Great Beyond - Featuring a Ver...                 TRAILER   \n",
       "\n",
       "           Device Type Bookmark Latest Bookmark             Country  \n",
       "0  Chrome PC (Cadmium)  0:19:02         0:19:02  US (United States)  \n",
       "1  Chrome PC (Cadmium)  0:00:43         0:00:43  US (United States)  \n",
       "2  Chrome PC (Cadmium)  0:00:11         0:00:11  US (United States)  \n",
       "3  Chrome PC (Cadmium)  0:00:05         0:00:05  US (United States)  \n",
       "4  Chrome PC (Cadmium)  0:00:07         0:00:07  US (United States)  \n",
       "5  Chrome PC (Cadmium)  1:32:35         1:32:35  US (United States)  \n",
       "6  Chrome PC (Cadmium)  0:00:25         0:00:25  US (United States)  \n",
       "7  Chrome PC (Cadmium)  0:00:06         0:00:06  US (United States)  \n",
       "8  Chrome PC (Cadmium)  0:00:13         0:00:13  US (United States)  \n",
       "9  Chrome PC (Cadmium)  0:00:33         0:00:33  US (United States)  "
      ]
     },
     "execution_count": 2,
     "metadata": {},
     "output_type": "execute_result"
    }
   ],
   "source": [
    "file.head(10)"
   ]
  },
  {
   "cell_type": "code",
   "execution_count": 3,
   "metadata": {},
   "outputs": [
    {
     "data": {
      "text/plain": [
       "(3733, 10)"
      ]
     },
     "execution_count": 3,
     "metadata": {},
     "output_type": "execute_result"
    }
   ],
   "source": [
    "file.shape"
   ]
  },
  {
   "cell_type": "markdown",
   "metadata": {},
   "source": [
    "There are 3733 rows and 10 columns in the file. It reflects that I came to the USA in 2018 \n",
    "and got my own Netflix subscription in October 2018. I am their customer since then.\n",
    "\n",
    "From the end of April to the 17th of September 2019, I was back in Russia. \n"
   ]
  },
  {
   "cell_type": "code",
   "execution_count": 4,
   "metadata": {},
   "outputs": [
    {
     "data": {
      "text/plain": [
       "US (United States)         2633\n",
       "RU (Russian Federation)    1100\n",
       "Name: Country, dtype: int64"
      ]
     },
     "execution_count": 4,
     "metadata": {},
     "output_type": "execute_result"
    }
   ],
   "source": [
    "file['Country'].value_counts()"
   ]
  },
  {
   "cell_type": "markdown",
   "metadata": {},
   "source": [
    "It means that although  the ratio of time I was in Russia to be in the US is 5 : 22 ( 22,7 % of all the time) \n",
    "29,4 % of all entries to the file were made when I was in Russia.\n",
    "\n",
    "It makes sense so as I was on vacation and watched Netflix more than usual.\n"
   ]
  },
  {
   "cell_type": "markdown",
   "metadata": {},
   "source": [
    "Let us keep this column ['Country'], but make it shorter:\n"
   ]
  },
  {
   "cell_type": "code",
   "execution_count": 5,
   "metadata": {},
   "outputs": [],
   "source": [
    "file['Country'] = file['Country'].str.replace('(United States)','').str.replace('(Russian Federation)','')\n",
    "file['Country'] = file['Country'].str.replace(')','').str.replace('(','')\n",
    "    "
   ]
  },
  {
   "cell_type": "markdown",
   "metadata": {},
   "source": [
    "Now there are only 'US' and 'RU' - short abbreviations there."
   ]
  },
  {
   "cell_type": "code",
   "execution_count": 6,
   "metadata": {},
   "outputs": [
    {
     "data": {
      "text/plain": [
       "US     2633\n",
       "RU     1100\n",
       "Name: Country, dtype: int64"
      ]
     },
     "execution_count": 6,
     "metadata": {},
     "output_type": "execute_result"
    }
   ],
   "source": [
    "file['Country'].value_counts()"
   ]
  },
  {
   "cell_type": "markdown",
   "metadata": {},
   "source": [
    "Some of the columns are not informative for us at all. "
   ]
  },
  {
   "cell_type": "code",
   "execution_count": 7,
   "metadata": {},
   "outputs": [
    {
     "data": {
      "text/plain": [
       "Autoplayed: user action: None;                 1160\n",
       "Autoplayed: user action: Unspecified;           247\n",
       "Autoplayed: user action: User_Interaction;       46\n",
       "Name: Attributes, dtype: int64"
      ]
     },
     "execution_count": 7,
     "metadata": {},
     "output_type": "execute_result"
    }
   ],
   "source": [
    "file['Attributes'].value_counts()"
   ]
  },
  {
   "cell_type": "markdown",
   "metadata": {},
   "source": [
    "We will erase these columns:"
   ]
  },
  {
   "cell_type": "code",
   "execution_count": 8,
   "metadata": {},
   "outputs": [],
   "source": [
    "file = file.drop(columns=['Profile Name', 'Device Type', 'Attributes'])"
   ]
  },
  {
   "cell_type": "markdown",
   "metadata": {},
   "source": [
    "Now the file looks better. Only 7 columns left:"
   ]
  },
  {
   "cell_type": "code",
   "execution_count": 9,
   "metadata": {},
   "outputs": [
    {
     "data": {
      "text/html": [
       "<div>\n",
       "<style scoped>\n",
       "    .dataframe tbody tr th:only-of-type {\n",
       "        vertical-align: middle;\n",
       "    }\n",
       "\n",
       "    .dataframe tbody tr th {\n",
       "        vertical-align: top;\n",
       "    }\n",
       "\n",
       "    .dataframe thead th {\n",
       "        text-align: right;\n",
       "    }\n",
       "</style>\n",
       "<table border=\"1\" class=\"dataframe\">\n",
       "  <thead>\n",
       "    <tr style=\"text-align: right;\">\n",
       "      <th></th>\n",
       "      <th>Start Time</th>\n",
       "      <th>Duration</th>\n",
       "      <th>Title</th>\n",
       "      <th>Supplemental Video Type</th>\n",
       "      <th>Bookmark</th>\n",
       "      <th>Latest Bookmark</th>\n",
       "      <th>Country</th>\n",
       "    </tr>\n",
       "  </thead>\n",
       "  <tbody>\n",
       "    <tr>\n",
       "      <th>0</th>\n",
       "      <td>1/2/2021 4:21</td>\n",
       "      <td>0:18:01</td>\n",
       "      <td>Cobra Kai: Season 2: Back In Black (Episode 2)</td>\n",
       "      <td>NaN</td>\n",
       "      <td>0:19:02</td>\n",
       "      <td>0:19:02</td>\n",
       "      <td>US</td>\n",
       "    </tr>\n",
       "    <tr>\n",
       "      <th>1</th>\n",
       "      <td>1/2/2021 4:20</td>\n",
       "      <td>0:00:43</td>\n",
       "      <td>Season 3 Trailer: Cobra Kai</td>\n",
       "      <td>TRAILER</td>\n",
       "      <td>0:00:43</td>\n",
       "      <td>0:00:43</td>\n",
       "      <td>US</td>\n",
       "    </tr>\n",
       "    <tr>\n",
       "      <th>2</th>\n",
       "      <td>12/31/2020 0:29</td>\n",
       "      <td>0:00:11</td>\n",
       "      <td>The Help_hook_primary_16x9</td>\n",
       "      <td>HOOK</td>\n",
       "      <td>0:00:11</td>\n",
       "      <td>0:00:11</td>\n",
       "      <td>US</td>\n",
       "    </tr>\n",
       "    <tr>\n",
       "      <th>3</th>\n",
       "      <td>12/31/2020 0:29</td>\n",
       "      <td>0:00:05</td>\n",
       "      <td>Trailer: Death to 2020</td>\n",
       "      <td>TRAILER</td>\n",
       "      <td>0:00:05</td>\n",
       "      <td>0:00:05</td>\n",
       "      <td>US</td>\n",
       "    </tr>\n",
       "    <tr>\n",
       "      <th>4</th>\n",
       "      <td>12/26/2020 23:08</td>\n",
       "      <td>0:00:07</td>\n",
       "      <td>How the Grinch Stole Christmas_hook_primary_16x9</td>\n",
       "      <td>HOOK</td>\n",
       "      <td>0:00:07</td>\n",
       "      <td>0:00:07</td>\n",
       "      <td>US</td>\n",
       "    </tr>\n",
       "  </tbody>\n",
       "</table>\n",
       "</div>"
      ],
      "text/plain": [
       "         Start Time Duration  \\\n",
       "0     1/2/2021 4:21  0:18:01   \n",
       "1     1/2/2021 4:20  0:00:43   \n",
       "2   12/31/2020 0:29  0:00:11   \n",
       "3   12/31/2020 0:29  0:00:05   \n",
       "4  12/26/2020 23:08  0:00:07   \n",
       "\n",
       "                                              Title Supplemental Video Type  \\\n",
       "0    Cobra Kai: Season 2: Back In Black (Episode 2)                     NaN   \n",
       "1                       Season 3 Trailer: Cobra Kai                 TRAILER   \n",
       "2                        The Help_hook_primary_16x9                    HOOK   \n",
       "3                            Trailer: Death to 2020                 TRAILER   \n",
       "4  How the Grinch Stole Christmas_hook_primary_16x9                    HOOK   \n",
       "\n",
       "  Bookmark Latest Bookmark Country  \n",
       "0  0:19:02         0:19:02     US   \n",
       "1  0:00:43         0:00:43     US   \n",
       "2  0:00:11         0:00:11     US   \n",
       "3  0:00:05         0:00:05     US   \n",
       "4  0:00:07         0:00:07     US   "
      ]
     },
     "execution_count": 9,
     "metadata": {},
     "output_type": "execute_result"
    }
   ],
   "source": [
    "file.head()"
   ]
  },
  {
   "cell_type": "markdown",
   "metadata": {},
   "source": [
    "However, several names of columns are too long and consist of several words. \n",
    "It is not so convenient to make analytics. Let us rename them. "
   ]
  },
  {
   "cell_type": "code",
   "execution_count": 10,
   "metadata": {},
   "outputs": [
    {
     "data": {
      "text/plain": [
       "Start Time                 object\n",
       "Duration                   object\n",
       "Title                      object\n",
       "Supplemental Video Type    object\n",
       "Bookmark                   object\n",
       "Latest Bookmark            object\n",
       "Country                    object\n",
       "dtype: object"
      ]
     },
     "execution_count": 10,
     "metadata": {},
     "output_type": "execute_result"
    }
   ],
   "source": [
    "file.dtypes"
   ]
  },
  {
   "cell_type": "code",
   "execution_count": 11,
   "metadata": {},
   "outputs": [],
   "source": [
    "file.rename(columns = {'Start Time': 'Start_Time', 'Latest Bookmark': 'Latest_Bookmark', 'Supplemental Video Type': 'Video_Type'},inplace = True)"
   ]
  },
  {
   "cell_type": "markdown",
   "metadata": {},
   "source": [
    "We transfer corresponding columns into DateTime and TimeDelta types:"
   ]
  },
  {
   "cell_type": "code",
   "execution_count": 12,
   "metadata": {},
   "outputs": [],
   "source": [
    "file['Start_Time']= pd.to_datetime(file.Start_Time)"
   ]
  },
  {
   "cell_type": "code",
   "execution_count": 13,
   "metadata": {},
   "outputs": [],
   "source": [
    "file['Duration']= pd.to_timedelta(file.Duration)"
   ]
  },
  {
   "cell_type": "code",
   "execution_count": 14,
   "metadata": {},
   "outputs": [
    {
     "data": {
      "text/plain": [
       "Start_Time          datetime64[ns]\n",
       "Duration           timedelta64[ns]\n",
       "Title                       object\n",
       "Video_Type                  object\n",
       "Bookmark                    object\n",
       "Latest_Bookmark             object\n",
       "Country                     object\n",
       "dtype: object"
      ]
     },
     "execution_count": 14,
     "metadata": {},
     "output_type": "execute_result"
    }
   ],
   "source": [
    "file.dtypes"
   ]
  },
  {
   "cell_type": "markdown",
   "metadata": {},
   "source": [
    "Everything looks fine now, and we can make operations with Duration column entries now:"
   ]
  },
  {
   "cell_type": "code",
   "execution_count": 15,
   "metadata": {},
   "outputs": [
    {
     "data": {
      "text/plain": [
       "Timedelta('0 days 00:18:44')"
      ]
     },
     "execution_count": 15,
     "metadata": {},
     "output_type": "execute_result"
    }
   ],
   "source": [
    "file['Duration'][0]+file['Duration'][1]"
   ]
  },
  {
   "cell_type": "markdown",
   "metadata": {},
   "source": [
    "The total time which I have spent watching Netflix looks formidable:"
   ]
  },
  {
   "cell_type": "code",
   "execution_count": 16,
   "metadata": {},
   "outputs": [
    {
     "data": {
      "text/plain": [
       "Timedelta('46 days 23:41:13')"
      ]
     },
     "execution_count": 16,
     "metadata": {},
     "output_type": "execute_result"
    }
   ],
   "source": [
    "file['Duration'].sum()"
   ]
  },
  {
   "cell_type": "markdown",
   "metadata": {},
   "source": [
    "Taking into account that 8 hours a day usually is for sleep, \n",
    "let us calculate how much ACTIVE daytime I spent watching movies. \n",
    "We will increase the total time in 1/3, so as 8 hours are 1/3 out of 24:"
   ]
  },
  {
   "cell_type": "code",
   "execution_count": 17,
   "metadata": {},
   "outputs": [
    {
     "data": {
      "text/plain": [
       "Timedelta('62 days 15:34:57.333333')"
      ]
     },
     "execution_count": 17,
     "metadata": {},
     "output_type": "execute_result"
    }
   ],
   "source": [
    "file['Duration'].sum()*4/3"
   ]
  },
  {
   "cell_type": "markdown",
   "metadata": {},
   "source": [
    "Let us look at Video_Type column. \n",
    "If the row in the file is about film or serial, the Video_Type column is empty (Nan). If there is an entry at Video_Type column, it means \n",
    "it was a preview, trailer, etc., something from an advertisement.\n"
   ]
  },
  {
   "cell_type": "code",
   "execution_count": 18,
   "metadata": {},
   "outputs": [
    {
     "data": {
      "text/plain": [
       "Video_Type\n",
       "BIG_ROW          00:00:35\n",
       "BUMPER           00:00:10\n",
       "HOOK             01:58:39\n",
       "PREVIEW          00:09:35\n",
       "PROMOTIONAL      00:01:54\n",
       "RECAP            00:12:23\n",
       "TEASER_TRAILER   00:03:17\n",
       "TRAILER          04:14:40\n",
       "Name: Duration, dtype: timedelta64[ns]"
      ]
     },
     "execution_count": 18,
     "metadata": {},
     "output_type": "execute_result"
    }
   ],
   "source": [
    "file.groupby('Video_Type').Duration.sum()"
   ]
  },
  {
   "cell_type": "markdown",
   "metadata": {},
   "source": [
    "It is approximately 6 hours were spent watching advertisement for movies.  "
   ]
  },
  {
   "cell_type": "code",
   "execution_count": 19,
   "metadata": {},
   "outputs": [
    {
     "data": {
      "text/plain": [
       "TRAILER           532\n",
       "HOOK              373\n",
       "PREVIEW            44\n",
       "TEASER_TRAILER      8\n",
       "PROMOTIONAL         6\n",
       "RECAP               5\n",
       "BIG_ROW             3\n",
       "BUMPER              1\n",
       "Name: Video_Type, dtype: int64"
      ]
     },
     "execution_count": 19,
     "metadata": {},
     "output_type": "execute_result"
    }
   ],
   "source": [
    "file['Video_Type'].value_counts()"
   ]
  },
  {
   "cell_type": "markdown",
   "metadata": {},
   "source": [
    "Let is erase all pertinent to an advertisement. The entries into 'Video_Type' should be "
   ]
  },
  {
   "cell_type": "code",
   "execution_count": 20,
   "metadata": {},
   "outputs": [],
   "source": [
    "commerce = ['TRAILER', 'HOOK', 'PREVIEW', 'TEASER_TRAILER', 'PROMOTIONAL', 'RECAP BUMPER']"
   ]
  },
  {
   "cell_type": "markdown",
   "metadata": {},
   "source": [
    "and leave the information about films and serials only.  The table without info on promo let us name \n",
    "file_clean. "
   ]
  },
  {
   "cell_type": "code",
   "execution_count": 21,
   "metadata": {},
   "outputs": [],
   "source": [
    "file_clean = file[file['Video_Type'].isnull()].copy()"
   ]
  },
  {
   "cell_type": "markdown",
   "metadata": {},
   "source": [
    "There are only 2761 entries left. "
   ]
  },
  {
   "cell_type": "code",
   "execution_count": 22,
   "metadata": {},
   "outputs": [
    {
     "data": {
      "text/plain": [
       "(2761, 7)"
      ]
     },
     "execution_count": 22,
     "metadata": {},
     "output_type": "execute_result"
    }
   ],
   "source": [
    "file_clean.shape"
   ]
  },
  {
   "cell_type": "markdown",
   "metadata": {},
   "source": [
    "Let us reset old indices and create the new ones for this cleaned file."
   ]
  },
  {
   "cell_type": "code",
   "execution_count": 23,
   "metadata": {},
   "outputs": [],
   "source": [
    "file_clean = file_clean.reset_index()"
   ]
  },
  {
   "cell_type": "code",
   "execution_count": 24,
   "metadata": {},
   "outputs": [
    {
     "data": {
      "text/html": [
       "<div>\n",
       "<style scoped>\n",
       "    .dataframe tbody tr th:only-of-type {\n",
       "        vertical-align: middle;\n",
       "    }\n",
       "\n",
       "    .dataframe tbody tr th {\n",
       "        vertical-align: top;\n",
       "    }\n",
       "\n",
       "    .dataframe thead th {\n",
       "        text-align: right;\n",
       "    }\n",
       "</style>\n",
       "<table border=\"1\" class=\"dataframe\">\n",
       "  <thead>\n",
       "    <tr style=\"text-align: right;\">\n",
       "      <th></th>\n",
       "      <th>index</th>\n",
       "      <th>Start_Time</th>\n",
       "      <th>Duration</th>\n",
       "      <th>Title</th>\n",
       "      <th>Video_Type</th>\n",
       "      <th>Bookmark</th>\n",
       "      <th>Latest_Bookmark</th>\n",
       "      <th>Country</th>\n",
       "    </tr>\n",
       "  </thead>\n",
       "  <tbody>\n",
       "    <tr>\n",
       "      <th>0</th>\n",
       "      <td>0</td>\n",
       "      <td>2021-01-02 04:21:00</td>\n",
       "      <td>00:18:01</td>\n",
       "      <td>Cobra Kai: Season 2: Back In Black (Episode 2)</td>\n",
       "      <td>NaN</td>\n",
       "      <td>0:19:02</td>\n",
       "      <td>0:19:02</td>\n",
       "      <td>US</td>\n",
       "    </tr>\n",
       "    <tr>\n",
       "      <th>1</th>\n",
       "      <td>5</td>\n",
       "      <td>2020-12-26 22:57:00</td>\n",
       "      <td>00:06:52</td>\n",
       "      <td>Dinner for Schmucks</td>\n",
       "      <td>NaN</td>\n",
       "      <td>1:32:35</td>\n",
       "      <td>1:32:35</td>\n",
       "      <td>US</td>\n",
       "    </tr>\n",
       "    <tr>\n",
       "      <th>2</th>\n",
       "      <td>11</td>\n",
       "      <td>2020-12-26 22:54:00</td>\n",
       "      <td>00:00:07</td>\n",
       "      <td>Yes Man</td>\n",
       "      <td>NaN</td>\n",
       "      <td>0:00:07</td>\n",
       "      <td>0:00:07</td>\n",
       "      <td>US</td>\n",
       "    </tr>\n",
       "    <tr>\n",
       "      <th>3</th>\n",
       "      <td>15</td>\n",
       "      <td>2020-12-25 05:26:00</td>\n",
       "      <td>00:22:04</td>\n",
       "      <td>Trollhunters: Tales of Arcadia: Part 1: Becomi...</td>\n",
       "      <td>NaN</td>\n",
       "      <td>0:22:04</td>\n",
       "      <td>0:22:04</td>\n",
       "      <td>US</td>\n",
       "    </tr>\n",
       "    <tr>\n",
       "      <th>4</th>\n",
       "      <td>18</td>\n",
       "      <td>2020-12-25 05:07:00</td>\n",
       "      <td>00:00:05</td>\n",
       "      <td>The Midnight Sky</td>\n",
       "      <td>NaN</td>\n",
       "      <td>0:00:05</td>\n",
       "      <td>0:00:05</td>\n",
       "      <td>US</td>\n",
       "    </tr>\n",
       "    <tr>\n",
       "      <th>...</th>\n",
       "      <td>...</td>\n",
       "      <td>...</td>\n",
       "      <td>...</td>\n",
       "      <td>...</td>\n",
       "      <td>...</td>\n",
       "      <td>...</td>\n",
       "      <td>...</td>\n",
       "      <td>...</td>\n",
       "    </tr>\n",
       "    <tr>\n",
       "      <th>2756</th>\n",
       "      <td>3728</td>\n",
       "      <td>2018-10-02 04:57:00</td>\n",
       "      <td>00:31:36</td>\n",
       "      <td>Atypical: Season 1: A Nice Neutral Smell (Epis...</td>\n",
       "      <td>NaN</td>\n",
       "      <td>0:31:40</td>\n",
       "      <td>0:31:40</td>\n",
       "      <td>US</td>\n",
       "    </tr>\n",
       "    <tr>\n",
       "      <th>2757</th>\n",
       "      <td>3729</td>\n",
       "      <td>2018-10-02 04:27:00</td>\n",
       "      <td>00:30:18</td>\n",
       "      <td>Atypical: Season 1: Julia Says (Episode 3)</td>\n",
       "      <td>NaN</td>\n",
       "      <td>0:30:22</td>\n",
       "      <td>0:30:22</td>\n",
       "      <td>US</td>\n",
       "    </tr>\n",
       "    <tr>\n",
       "      <th>2758</th>\n",
       "      <td>3730</td>\n",
       "      <td>2018-10-02 03:12:00</td>\n",
       "      <td>00:00:01</td>\n",
       "      <td>Atypical: Season 1: Julia Says (Episode 3)</td>\n",
       "      <td>NaN</td>\n",
       "      <td>0:00:05</td>\n",
       "      <td>Not latest view</td>\n",
       "      <td>US</td>\n",
       "    </tr>\n",
       "    <tr>\n",
       "      <th>2759</th>\n",
       "      <td>3731</td>\n",
       "      <td>2018-10-02 02:39:00</td>\n",
       "      <td>00:32:38</td>\n",
       "      <td>Atypical: Season 1: A Human Female (Episode 2)</td>\n",
       "      <td>NaN</td>\n",
       "      <td>0:32:42</td>\n",
       "      <td>0:32:42</td>\n",
       "      <td>US</td>\n",
       "    </tr>\n",
       "    <tr>\n",
       "      <th>2760</th>\n",
       "      <td>3732</td>\n",
       "      <td>2018-10-02 01:58:00</td>\n",
       "      <td>00:37:12</td>\n",
       "      <td>Atypical: Season 1: Antarctica (Episode 1)</td>\n",
       "      <td>NaN</td>\n",
       "      <td>0:37:12</td>\n",
       "      <td>0:37:12</td>\n",
       "      <td>US</td>\n",
       "    </tr>\n",
       "  </tbody>\n",
       "</table>\n",
       "<p>2761 rows × 8 columns</p>\n",
       "</div>"
      ],
      "text/plain": [
       "      index          Start_Time Duration  \\\n",
       "0         0 2021-01-02 04:21:00 00:18:01   \n",
       "1         5 2020-12-26 22:57:00 00:06:52   \n",
       "2        11 2020-12-26 22:54:00 00:00:07   \n",
       "3        15 2020-12-25 05:26:00 00:22:04   \n",
       "4        18 2020-12-25 05:07:00 00:00:05   \n",
       "...     ...                 ...      ...   \n",
       "2756   3728 2018-10-02 04:57:00 00:31:36   \n",
       "2757   3729 2018-10-02 04:27:00 00:30:18   \n",
       "2758   3730 2018-10-02 03:12:00 00:00:01   \n",
       "2759   3731 2018-10-02 02:39:00 00:32:38   \n",
       "2760   3732 2018-10-02 01:58:00 00:37:12   \n",
       "\n",
       "                                                  Title Video_Type Bookmark  \\\n",
       "0        Cobra Kai: Season 2: Back In Black (Episode 2)        NaN  0:19:02   \n",
       "1                                   Dinner for Schmucks        NaN  1:32:35   \n",
       "2                                               Yes Man        NaN  0:00:07   \n",
       "3     Trollhunters: Tales of Arcadia: Part 1: Becomi...        NaN  0:22:04   \n",
       "4                                      The Midnight Sky        NaN  0:00:05   \n",
       "...                                                 ...        ...      ...   \n",
       "2756  Atypical: Season 1: A Nice Neutral Smell (Epis...        NaN  0:31:40   \n",
       "2757         Atypical: Season 1: Julia Says (Episode 3)        NaN  0:30:22   \n",
       "2758         Atypical: Season 1: Julia Says (Episode 3)        NaN  0:00:05   \n",
       "2759     Atypical: Season 1: A Human Female (Episode 2)        NaN  0:32:42   \n",
       "2760         Atypical: Season 1: Antarctica (Episode 1)        NaN  0:37:12   \n",
       "\n",
       "      Latest_Bookmark Country  \n",
       "0             0:19:02     US   \n",
       "1             1:32:35     US   \n",
       "2             0:00:07     US   \n",
       "3             0:22:04     US   \n",
       "4             0:00:05     US   \n",
       "...               ...     ...  \n",
       "2756          0:31:40     US   \n",
       "2757          0:30:22     US   \n",
       "2758  Not latest view     US   \n",
       "2759          0:32:42     US   \n",
       "2760          0:37:12     US   \n",
       "\n",
       "[2761 rows x 8 columns]"
      ]
     },
     "execution_count": 24,
     "metadata": {},
     "output_type": "execute_result"
    }
   ],
   "source": [
    "file_clean"
   ]
  },
  {
   "cell_type": "markdown",
   "metadata": {},
   "source": [
    "Let us clean Title column. "
   ]
  },
  {
   "cell_type": "code",
   "execution_count": 25,
   "metadata": {},
   "outputs": [],
   "source": [
    "films = file_clean.groupby('Title').Duration.sum()"
   ]
  },
  {
   "cell_type": "code",
   "execution_count": 26,
   "metadata": {},
   "outputs": [
    {
     "name": "stdout",
     "output_type": "stream",
     "text": [
      "Title\n",
      "13 Commandments: Season 1: Episode 1                                        00:00:44\n",
      "13 Reasons Why: Season 1: Tape 1, Side A (Episode 1)                        00:00:34\n",
      "13 Reasons Why: Season 1: Tape 1, Side B (Episode 2)                        00:09:52\n",
      "3 Idiots                                                                    00:03:08\n",
      "A California Christmas                                                      01:23:21\n",
      "                                                                              ...   \n",
      "You: Season 1: The Last Nice Guy in New York (Episode 2)                    00:43:28\n",
      "You: Season 1: You Got Me, Babe (Episode 8)                                 00:44:36\n",
      "Young Adult                                                                 00:03:07\n",
      "Zack and Miri Make a Porno                                                  01:30:50\n",
      "the goop lab with Gwyneth Paltrow: Season 1: The Healing Trip (Episode 1)   00:06:32\n",
      "Name: Duration, Length: 1938, dtype: timedelta64[ns]\n"
     ]
    }
   ],
   "source": [
    "print(films)"
   ]
  },
  {
   "cell_type": "markdown",
   "metadata": {},
   "source": [
    "You can see that the name of the movie itself is at the beginning of the entry. \n",
    "Then, after the colon sign, the number of seasons or episodes comes.\n",
    "Let is left the names of the films only and get rid of everything written after the first ':' sign. \n",
    "Let write a function for this purpose:"
   ]
  },
  {
   "cell_type": "code",
   "execution_count": 27,
   "metadata": {},
   "outputs": [],
   "source": [
    "def clean_title(movie_name):\n",
    "        new_name = ''\n",
    "        for let in movie_name:\n",
    "            if let != ':':\n",
    "                new_name +=let\n",
    "            else: \n",
    "                return new_name.strip()\n",
    "        return new_name.strip()\n",
    "            "
   ]
  },
  {
   "cell_type": "markdown",
   "metadata": {},
   "source": [
    "Let us clean Title column using the new function:"
   ]
  },
  {
   "cell_type": "code",
   "execution_count": 28,
   "metadata": {},
   "outputs": [],
   "source": [
    "file_clean['Title'] = file_clean['Title'].apply(clean_title)"
   ]
  },
  {
   "cell_type": "code",
   "execution_count": 29,
   "metadata": {},
   "outputs": [
    {
     "data": {
      "text/plain": [
       "0                 Cobra Kai\n",
       "1       Dinner for Schmucks\n",
       "2                   Yes Man\n",
       "3              Trollhunters\n",
       "4          The Midnight Sky\n",
       "               ...         \n",
       "2756               Atypical\n",
       "2757               Atypical\n",
       "2758               Atypical\n",
       "2759               Atypical\n",
       "2760               Atypical\n",
       "Name: Title, Length: 2761, dtype: object"
      ]
     },
     "execution_count": 29,
     "metadata": {},
     "output_type": "execute_result"
    }
   ],
   "source": [
    "file_clean['Title']"
   ]
  },
  {
   "cell_type": "markdown",
   "metadata": {},
   "source": [
    "Now we can find out how much time in total was spent watching every single serial:"
   ]
  },
  {
   "cell_type": "code",
   "execution_count": 30,
   "metadata": {},
   "outputs": [
    {
     "data": {
      "text/plain": [
       "Title\n",
       "Mad Men                       3 days 00:29:55\n",
       "Suits                         2 days 15:22:13\n",
       "How to Get Away With Murder   2 days 06:43:44\n",
       "Doc Martin                    1 days 22:15:34\n",
       "Weeds                         1 days 21:40:35\n",
       "Better Call Saul              1 days 10:14:24\n",
       "The Tudors                    1 days 08:26:44\n",
       "Crazy Ex-Girlfriend           1 days 07:17:38\n",
       "Money Heist                   1 days 05:02:26\n",
       "Babylon Berlin                0 days 20:49:55\n",
       "Broadchurch                   0 days 18:38:29\n",
       "The Good Place                0 days 18:17:25\n",
       "Last Tango in Halifax         0 days 17:53:50\n",
       "Outlander                     0 days 17:13:35\n",
       "Good Girls                    0 days 15:45:12\n",
       "Insatiable                    0 days 15:07:22\n",
       "Sex Education                 0 days 13:19:04\n",
       "Ken Burns                     0 days 13:08:00\n",
       "Californication               0 days 12:05:20\n",
       "Cheers                        0 days 11:07:06\n",
       "Name: Duration, dtype: timedelta64[ns]"
      ]
     },
     "execution_count": 30,
     "metadata": {},
     "output_type": "execute_result"
    }
   ],
   "source": [
    "file_clean.groupby('Title').Duration.sum().sort_values(ascending = False).head(20)"
   ]
  },
  {
   "cell_type": "markdown",
   "metadata": {},
   "source": [
    "Yes, my favorite serials which I used to binge-watch are at the top of the list."
   ]
  },
  {
   "cell_type": "markdown",
   "metadata": {},
   "source": [
    "# How Long I Watched Netflix Each Month "
   ]
  },
  {
   "cell_type": "markdown",
   "metadata": {},
   "source": [
    "To estimate how long I watched Netflix each month, let us create a new column with info on month and year only."
   ]
  },
  {
   "cell_type": "code",
   "execution_count": 31,
   "metadata": {},
   "outputs": [
    {
     "data": {
      "text/html": [
       "<div>\n",
       "<style scoped>\n",
       "    .dataframe tbody tr th:only-of-type {\n",
       "        vertical-align: middle;\n",
       "    }\n",
       "\n",
       "    .dataframe tbody tr th {\n",
       "        vertical-align: top;\n",
       "    }\n",
       "\n",
       "    .dataframe thead th {\n",
       "        text-align: right;\n",
       "    }\n",
       "</style>\n",
       "<table border=\"1\" class=\"dataframe\">\n",
       "  <thead>\n",
       "    <tr style=\"text-align: right;\">\n",
       "      <th></th>\n",
       "      <th>Start_Time</th>\n",
       "      <th>Duration</th>\n",
       "      <th>Title</th>\n",
       "      <th>Video_Type</th>\n",
       "      <th>Bookmark</th>\n",
       "      <th>Latest_Bookmark</th>\n",
       "      <th>Country</th>\n",
       "      <th>Monthly_Basis</th>\n",
       "    </tr>\n",
       "  </thead>\n",
       "  <tbody>\n",
       "    <tr>\n",
       "      <th>0</th>\n",
       "      <td>2021-01-02 04:21:00</td>\n",
       "      <td>00:18:01</td>\n",
       "      <td>Cobra Kai: Season 2: Back In Black (Episode 2)</td>\n",
       "      <td>NaN</td>\n",
       "      <td>0:19:02</td>\n",
       "      <td>0:19:02</td>\n",
       "      <td>US</td>\n",
       "      <td>2021-01</td>\n",
       "    </tr>\n",
       "    <tr>\n",
       "      <th>1</th>\n",
       "      <td>2021-01-02 04:20:00</td>\n",
       "      <td>00:00:43</td>\n",
       "      <td>Season 3 Trailer: Cobra Kai</td>\n",
       "      <td>TRAILER</td>\n",
       "      <td>0:00:43</td>\n",
       "      <td>0:00:43</td>\n",
       "      <td>US</td>\n",
       "      <td>2021-01</td>\n",
       "    </tr>\n",
       "    <tr>\n",
       "      <th>2</th>\n",
       "      <td>2020-12-31 00:29:00</td>\n",
       "      <td>00:00:11</td>\n",
       "      <td>The Help_hook_primary_16x9</td>\n",
       "      <td>HOOK</td>\n",
       "      <td>0:00:11</td>\n",
       "      <td>0:00:11</td>\n",
       "      <td>US</td>\n",
       "      <td>2020-12</td>\n",
       "    </tr>\n",
       "    <tr>\n",
       "      <th>3</th>\n",
       "      <td>2020-12-31 00:29:00</td>\n",
       "      <td>00:00:05</td>\n",
       "      <td>Trailer: Death to 2020</td>\n",
       "      <td>TRAILER</td>\n",
       "      <td>0:00:05</td>\n",
       "      <td>0:00:05</td>\n",
       "      <td>US</td>\n",
       "      <td>2020-12</td>\n",
       "    </tr>\n",
       "    <tr>\n",
       "      <th>4</th>\n",
       "      <td>2020-12-26 23:08:00</td>\n",
       "      <td>00:00:07</td>\n",
       "      <td>How the Grinch Stole Christmas_hook_primary_16x9</td>\n",
       "      <td>HOOK</td>\n",
       "      <td>0:00:07</td>\n",
       "      <td>0:00:07</td>\n",
       "      <td>US</td>\n",
       "      <td>2020-12</td>\n",
       "    </tr>\n",
       "  </tbody>\n",
       "</table>\n",
       "</div>"
      ],
      "text/plain": [
       "           Start_Time Duration  \\\n",
       "0 2021-01-02 04:21:00 00:18:01   \n",
       "1 2021-01-02 04:20:00 00:00:43   \n",
       "2 2020-12-31 00:29:00 00:00:11   \n",
       "3 2020-12-31 00:29:00 00:00:05   \n",
       "4 2020-12-26 23:08:00 00:00:07   \n",
       "\n",
       "                                              Title Video_Type Bookmark  \\\n",
       "0    Cobra Kai: Season 2: Back In Black (Episode 2)        NaN  0:19:02   \n",
       "1                       Season 3 Trailer: Cobra Kai    TRAILER  0:00:43   \n",
       "2                        The Help_hook_primary_16x9       HOOK  0:00:11   \n",
       "3                            Trailer: Death to 2020    TRAILER  0:00:05   \n",
       "4  How the Grinch Stole Christmas_hook_primary_16x9       HOOK  0:00:07   \n",
       "\n",
       "  Latest_Bookmark Country Monthly_Basis  \n",
       "0         0:19:02     US        2021-01  \n",
       "1         0:00:43     US        2021-01  \n",
       "2         0:00:11     US        2020-12  \n",
       "3         0:00:05     US        2020-12  \n",
       "4         0:00:07     US        2020-12  "
      ]
     },
     "execution_count": 31,
     "metadata": {},
     "output_type": "execute_result"
    }
   ],
   "source": [
    "file['Monthly_Basis'] = pd.to_datetime(file['Start_Time']).dt.to_period('M')\n",
    "file.head()"
   ]
  },
  {
   "cell_type": "markdown",
   "metadata": {},
   "source": [
    "Now I can calculate how long I spent on Netflix each month:"
   ]
  },
  {
   "cell_type": "code",
   "execution_count": 32,
   "metadata": {},
   "outputs": [
    {
     "data": {
      "text/plain": [
       "Monthly_Basis\n",
       "2018-10   1 days 11:34:47\n",
       "2018-11   1 days 20:37:52\n",
       "2018-12   1 days 16:40:00\n",
       "2019-01   2 days 10:02:35\n",
       "2019-02   1 days 00:23:19\n",
       "2019-03   0 days 21:36:15\n",
       "2019-04   2 days 09:47:05\n",
       "2019-05   3 days 16:31:49\n",
       "2019-06   4 days 04:57:26\n",
       "2019-07   2 days 05:54:17\n",
       "2019-08   2 days 08:32:03\n",
       "2019-09   1 days 18:21:56\n",
       "2019-10   1 days 08:01:08\n",
       "2019-11   1 days 09:00:30\n",
       "2019-12   2 days 08:27:52\n",
       "2020-01   1 days 11:53:52\n",
       "2020-02   1 days 14:51:45\n",
       "2020-03   2 days 14:10:19\n",
       "2020-04   1 days 00:59:52\n",
       "2020-05   2 days 08:14:52\n",
       "2020-06   1 days 13:03:17\n",
       "2020-07   1 days 01:09:57\n",
       "2020-08   1 days 03:03:52\n",
       "2020-09   0 days 13:55:03\n",
       "2020-10   0 days 14:05:07\n",
       "2020-11   1 days 03:42:31\n",
       "2020-12   0 days 17:43:08\n",
       "2021-01   0 days 00:18:44\n",
       "Freq: M, Name: Duration, dtype: timedelta64[ns]"
      ]
     },
     "execution_count": 32,
     "metadata": {},
     "output_type": "execute_result"
    }
   ],
   "source": [
    "file.groupby('Monthly_Basis').Duration.sum()"
   ]
  },
  {
   "cell_type": "markdown",
   "metadata": {},
   "source": [
    "To plot a graph, let us transfer the time span into hours."
   ]
  },
  {
   "cell_type": "code",
   "execution_count": 33,
   "metadata": {},
   "outputs": [
    {
     "name": "stdout",
     "output_type": "stream",
     "text": [
      "36.0\n",
      "45.0\n",
      "41.0\n",
      "58.0\n",
      "24.0\n",
      "22.0\n",
      "58.0\n",
      "89.0\n",
      "101.0\n",
      "54.0\n",
      "57.0\n",
      "42.0\n",
      "32.0\n",
      "33.0\n",
      "56.0\n",
      "36.0\n",
      "39.0\n",
      "62.0\n",
      "25.0\n",
      "56.0\n",
      "37.0\n",
      "25.0\n",
      "27.0\n",
      "14.0\n",
      "14.0\n",
      "28.0\n",
      "18.0\n",
      "0.0\n"
     ]
    }
   ],
   "source": [
    "monthes = list(file.groupby('Monthly_Basis').Duration.sum())\n",
    "monthes_in_hours = []\n",
    "for mon in monthes:\n",
    "    hours = round(mon.total_seconds()/3600,0)\n",
    "    print(hours)\n",
    "    monthes_in_hours.append(hours)"
   ]
  },
  {
   "cell_type": "code",
   "execution_count": 34,
   "metadata": {},
   "outputs": [
    {
     "data": {
      "text/plain": [
       "[36.0,\n",
       " 45.0,\n",
       " 41.0,\n",
       " 58.0,\n",
       " 24.0,\n",
       " 22.0,\n",
       " 58.0,\n",
       " 89.0,\n",
       " 101.0,\n",
       " 54.0,\n",
       " 57.0,\n",
       " 42.0,\n",
       " 32.0,\n",
       " 33.0,\n",
       " 56.0,\n",
       " 36.0,\n",
       " 39.0,\n",
       " 62.0,\n",
       " 25.0,\n",
       " 56.0,\n",
       " 37.0,\n",
       " 25.0,\n",
       " 27.0,\n",
       " 14.0,\n",
       " 14.0,\n",
       " 28.0,\n",
       " 18.0]"
      ]
     },
     "execution_count": 34,
     "metadata": {},
     "output_type": "execute_result"
    }
   ],
   "source": [
    "monthes_in_hours[:-1]"
   ]
  },
  {
   "cell_type": "code",
   "execution_count": 35,
   "metadata": {},
   "outputs": [],
   "source": [
    "num_cols = list(file['Monthly_Basis'].unique())\n",
    "num_cols = sorted(num_cols)"
   ]
  },
  {
   "cell_type": "markdown",
   "metadata": {},
   "source": [
    "The average number of hours of watching Netflix per month:"
   ]
  },
  {
   "cell_type": "code",
   "execution_count": 36,
   "metadata": {},
   "outputs": [
    {
     "data": {
      "text/plain": [
       "42.0"
      ]
     },
     "execution_count": 36,
     "metadata": {},
     "output_type": "execute_result"
    }
   ],
   "source": [
    "round(sum(monthes_in_hours[:-1])/len(monthes_in_hours[:-1]),0)"
   ]
  },
  {
   "cell_type": "markdown",
   "metadata": {},
   "source": [
    "It means that daily I watch TV for about 1.4 hours or 1 hour 24 min"
   ]
  },
  {
   "cell_type": "code",
   "execution_count": 37,
   "metadata": {},
   "outputs": [
    {
     "data": {
      "text/plain": [
       "24.0"
      ]
     },
     "execution_count": 37,
     "metadata": {},
     "output_type": "execute_result"
    }
   ],
   "source": [
    "round(sum(monthes_in_hours[:-1])/len(monthes_in_hours[:-1])/30.5,1)\n",
    "2/5*60"
   ]
  },
  {
   "cell_type": "markdown",
   "metadata": {},
   "source": [
    "Finally, let us draw a graph: "
   ]
  },
  {
   "cell_type": "markdown",
   "metadata": {},
   "source": [
    "file "
   ]
  },
  {
   "cell_type": "code",
   "execution_count": 38,
   "metadata": {},
   "outputs": [
    {
     "data": {
      "image/png": "[encoded data removed]",
      "text/plain": [
       "<Figure size 1800x1080 with 1 Axes>"
      ]
     },
     "metadata": {
      "needs_background": "light"
     },
     "output_type": "display_data"
    }
   ],
   "source": [
    "from numpy import arange\n",
    "num_cols = list(file['Monthly_Basis'].unique())\n",
    "num_cols = sorted(num_cols)\n",
    "bar_heights = monthes_in_hours\n",
    "num = len(monthes_in_hours)\n",
    "bar_positions = arange(num) + 0.75\n",
    "tick_positions = range(1,num+1)\n",
    "fig, ax = plt.subplots(figsize=(25,15))\n",
    "ax.bar(bar_positions, bar_heights, 0.5)\n",
    "ax.set_xticks(tick_positions)\n",
    "ax.set_xticklabels(num_cols, rotation=45, size=14)\n",
    "\n",
    "ax.set_xlabel('Month', size=16)\n",
    "ax.set_ylabel('Hours per Month', size=16)\n",
    "ax.set_title('Hours Spent Watching Netflix each Month', size=18)\n",
    "plt.show()\n",
    "       \n"
   ]
  },
  {
   "cell_type": "markdown",
   "metadata": {},
   "source": [
    "# Conclusions:"
   ]
  },
  {
   "cell_type": "markdown",
   "metadata": {},
   "source": [
    "Looking into the Netflix data reveals that I used to watch Netflix too much. \n",
    "    \n",
    "During 2 years and 3 months, I spent 2 months of active time watching Netflix. So, on average it is 1h and 20 min a day.  When I am on vacation, I used to spend more time watching movies as usual. \n",
    "\n",
    "My favorite serials turn to be the most time-consuming for me. \n",
    "\n",
    "In my defense, I would say that I was a newcomer to the United States and watching films helped me for improving my accent. Moreover, watching old movies helps to be acquainted with American culture in general, so I cannot consider this time wasted in vain. However, I should definitely reduce the time for Netflix and in the future do more coding for leisure activity instead. \n"
   ]
  },
  {
   "cell_type": "code",
   "execution_count": null,
   "metadata": {},
   "outputs": [],
   "source": []
  },
  {
   "cell_type": "code",
   "execution_count": null,
   "metadata": {},
   "outputs": [],
   "source": []
  }
 ],
 "metadata": {
  "kernelspec": {
   "display_name": "Python 3",
   "language": "python",
   "name": "python3"
  },
  "language_info": {
   "codemirror_mode": {
    "name": "ipython",
    "version": 3
   },
   "file_extension": ".py",
   "mimetype": "text/x-python",
   "name": "python",
   "nbconvert_exporter": "python",
   "pygments_lexer": "ipython3",
   "version": "3.7.6"
  }
 },
 "nbformat": 4,
 "nbformat_minor": 4
}
